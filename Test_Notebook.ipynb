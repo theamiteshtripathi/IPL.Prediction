{
  "nbformat": 4,
  "nbformat_minor": 0,
  "metadata": {
    "colab": {
      "name": "Test Notebook.ipynb",
      "provenance": [],
      "authorship_tag": "ABX9TyME9dyR+eDV9sBhzsHWuWRq",
      "include_colab_link": true
    },
    "kernelspec": {
      "name": "python3",
      "display_name": "Python 3"
    },
    "language_info": {
      "name": "python"
    }
  },
  "cells": [
    {
      "cell_type": "markdown",
      "metadata": {
        "id": "view-in-github",
        "colab_type": "text"
      },
      "source": [
        "<a href=\"https://colab.research.google.com/github/theamiteshtripathi/IPL.Prediction_DSproject/blob/main/Test_Notebook.ipynb\" target=\"_parent\"><img src=\"https://colab.research.google.com/assets/colab-badge.svg\" alt=\"Open In Colab\"/></a>"
      ]
    },
    {
      "cell_type": "code",
      "metadata": {
        "colab": {
          "base_uri": "https://localhost:8080/"
        },
        "id": "xdXBcjGKVVdg",
        "outputId": "cbffdb80-1cf8-423f-c1c9-d298ead77c3b"
      },
      "source": [
        "print(\"hello there\")\n"
      ],
      "execution_count": 2,
      "outputs": [
        {
          "output_type": "stream",
          "text": [
            "hello there\n"
          ],
          "name": "stdout"
        }
      ]
    }
  ]
}